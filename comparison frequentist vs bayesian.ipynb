{
 "cells": [
  {
   "cell_type": "code",
   "execution_count": 1,
   "metadata": {},
   "outputs": [],
   "source": [
    "import numpy as np\n",
    "from scipy.stats import norm\n",
    "from scipy.stats import binom"
   ]
  },
  {
   "cell_type": "markdown",
   "metadata": {},
   "source": [
    "In this notebook, I walk through three examples of statistical tests. Each example will be viewed from the frequentist and bayesian point of view. On following examples I will have a closer look:\n",
    "\n",
    "- Semmelweis assumption of child bed fever\n",
    "- Milikans measurement of elementary charge\n",
    "- Milgrams experiment of obedience"
   ]
  },
  {
   "cell_type": "markdown",
   "metadata": {},
   "source": [
    "### Some general simple examples"
   ]
  },
  {
   "cell_type": "markdown",
   "metadata": {},
   "source": [
    "### Conditional probability - Bayes Theorem"
   ]
  },
  {
   "cell_type": "markdown",
   "metadata": {},
   "source": [
    "There is a medical test for a certain sickness with an accuracy of 99 %, which means, it detects 99% of sick persons as sick and 99% of healthy persons as healthy. \n",
    "\n",
    "So in the case, you will be detected sick with this test, what is the probability, that the diagnosis is correct? "
   ]
  },
  {
   "cell_type": "code",
   "execution_count": 2,
   "metadata": {},
   "outputs": [],
   "source": [
    "n_total = 8400000\n",
    "n_sick = 15000\n",
    "n_healthy = n_total - n_sick"
   ]
  },
  {
   "cell_type": "markdown",
   "metadata": {},
   "source": [
    "|      |  H   |  !H  | sum  |\n",
    "|------|------|------|------|\n",
    "|   P  | 14850| 83850| 98700|\n",
    "|  !P  |   150|8301150|8301300|\n",
    "| Sum  | 15000|8385000|8400000|"
   ]
  },
  {
   "cell_type": "markdown",
   "metadata": {},
   "source": [
    "**H**: n of sick persons <br>\n",
    "**!H**: n of healthy persons <br>\n",
    "**P**: n of tests detecting the sickness <br>\n",
    "**!P**: n of tests not detecting the sickness <br>"
   ]
  },
  {
   "cell_type": "markdown",
   "metadata": {},
   "source": [
    "The test will detect 98700 persons as sick, but 14850 are actually sick. The probability p(H|P) of being sick, while being detected as sick is 15 % "
   ]
  },
  {
   "cell_type": "code",
   "execution_count": 3,
   "metadata": {},
   "outputs": [
    {
     "name": "stdout",
     "output_type": "stream",
     "text": [
      "p(H|P) = 0.1505\n"
     ]
    }
   ],
   "source": [
    "p_h_p = 14850/98700\n",
    "print(f\"p(H|P) = {round(p_h_p,4)}\")"
   ]
  },
  {
   "cell_type": "markdown",
   "metadata": {},
   "source": [
    "The problem for this low number is, that the test is right in 99 % of all cases, but not in 99% of all positive cases. This is one example, which Bayes Theorem explains:\n",
    "\n",
    "$$ p(H|P) = \\frac{p(P|H)p(H)}{p(P)}$$\n",
    "\n",
    "with p(P|H) as the probability of a positive test by sickness of 0.99.\n",
    "p(H) is the probability, that the tested person is sick, independent of the test result"
   ]
  },
  {
   "cell_type": "code",
   "execution_count": 4,
   "metadata": {},
   "outputs": [
    {
     "name": "stdout",
     "output_type": "stream",
     "text": [
      "p(H) = 0.0018\n",
      "p(P) = 0.0118\n"
     ]
    }
   ],
   "source": [
    "p_h = n_sick/n_total\n",
    "p_p = 98700/n_total\n",
    "print(f\"p(H) = {round(p_h, 4)}\")\n",
    "print(f\"p(P) = {round(p_p, 4)}\")"
   ]
  },
  {
   "cell_type": "code",
   "execution_count": 5,
   "metadata": {},
   "outputs": [
    {
     "name": "stdout",
     "output_type": "stream",
     "text": [
      "p(H|P) = 0.1505\n"
     ]
    }
   ],
   "source": [
    "p_h_p = 0.99*p_h/p_p\n",
    "print(f\"p(H|P) = {round(p_h_p, 4)}\")"
   ]
  },
  {
   "cell_type": "markdown",
   "metadata": {},
   "source": [
    "### Simple example for normal distribution"
   ]
  },
  {
   "cell_type": "markdown",
   "metadata": {},
   "source": [
    "The estimation of the average human age is 85 years ($\\mu = 85$) with a standard deviation of 4-5 years ($\\sigma = 4.5$)."
   ]
  },
  {
   "cell_type": "code",
   "execution_count": 6,
   "metadata": {},
   "outputs": [],
   "source": [
    "mu = 85\n",
    "sigma = 4.5"
   ]
  },
  {
   "cell_type": "markdown",
   "metadata": {},
   "source": [
    "How big is the part of the humans getting only 75 years old (p(X $\\leq$ 75))? "
   ]
  },
  {
   "cell_type": "code",
   "execution_count": 7,
   "metadata": {},
   "outputs": [],
   "source": [
    "z = (75 - mu)/sigma"
   ]
  },
  {
   "cell_type": "code",
   "execution_count": 8,
   "metadata": {},
   "outputs": [
    {
     "name": "stdout",
     "output_type": "stream",
     "text": [
      "p(X <= 75) = 0.0131\n"
     ]
    }
   ],
   "source": [
    "print(f\"p(X <= 75) = {round(norm.cdf(z),4)}\")"
   ]
  },
  {
   "cell_type": "markdown",
   "metadata": {},
   "source": [
    "Which part would get at least 90 years old (p(X $\\geq$ 90))?"
   ]
  },
  {
   "cell_type": "code",
   "execution_count": 9,
   "metadata": {},
   "outputs": [
    {
     "name": "stdout",
     "output_type": "stream",
     "text": [
      "p(X >= 90) = 0.1333\n"
     ]
    }
   ],
   "source": [
    "z = (90 - mu)/sigma\n",
    "print(f\"p(X >= 90) = {round(1 - norm.cdf(z),4)}\")"
   ]
  },
  {
   "cell_type": "markdown",
   "metadata": {},
   "source": [
    "What age interval would cover 95 % of the age p($x_1$ $\\leq$ X $\\leq$ $x_2$)?"
   ]
  },
  {
   "cell_type": "code",
   "execution_count": 10,
   "metadata": {},
   "outputs": [],
   "source": [
    "z1 = norm.ppf(0.025)\n",
    "z2 = norm.ppf(1-0.025)"
   ]
  },
  {
   "cell_type": "code",
   "execution_count": 11,
   "metadata": {},
   "outputs": [
    {
     "name": "stdout",
     "output_type": "stream",
     "text": [
      "p(x1 <= X <= x2) = 76.1802 <= X <= 93.8198\n"
     ]
    }
   ],
   "source": [
    "print(f\"p(x1 <= X <= x2) = {round(85+z1*4.5,4)} <= X <= {round(85+z2*4.5,4)}\")"
   ]
  },
  {
   "cell_type": "markdown",
   "metadata": {},
   "source": [
    "### Simple example for binomial distribution"
   ]
  },
  {
   "cell_type": "markdown",
   "metadata": {},
   "source": [
    "In case of an accident, every 10th of the population is able to accomplish a life saving help. What is the probability, that with 10 persons around, none, one, two ... potential life savers are around?"
   ]
  },
  {
   "cell_type": "code",
   "execution_count": 12,
   "metadata": {},
   "outputs": [],
   "source": [
    "p = 0.1\n",
    "n = 10"
   ]
  },
  {
   "cell_type": "code",
   "execution_count": 13,
   "metadata": {},
   "outputs": [
    {
     "name": "stdout",
     "output_type": "stream",
     "text": [
      "p(X = 0) = 0.3487\n"
     ]
    }
   ],
   "source": [
    "print(f\"p(X = 0) = {round(binom.pmf(0, n, p),4)}\")"
   ]
  },
  {
   "cell_type": "code",
   "execution_count": 14,
   "metadata": {},
   "outputs": [
    {
     "name": "stdout",
     "output_type": "stream",
     "text": [
      "p(X = 1) = 0.3874\n"
     ]
    }
   ],
   "source": [
    "print(f\"p(X = 1) = {round(binom.pmf(1, n, p),4)}\")"
   ]
  },
  {
   "cell_type": "code",
   "execution_count": 15,
   "metadata": {},
   "outputs": [],
   "source": [
    "rv = binom(n, p)"
   ]
  },
  {
   "cell_type": "code",
   "execution_count": 16,
   "metadata": {},
   "outputs": [
    {
     "name": "stdout",
     "output_type": "stream",
     "text": [
      "p(X = 0) = 0.3487\n",
      "p(X = 1) = 0.3874\n",
      "p(X = 2) = 0.1937\n",
      "p(X = 3) = 0.0574\n",
      "p(X = 4) = 0.0112\n",
      "p(X = 5) = 0.0015\n",
      "p(X = 6) = 0.0001\n",
      "p(X = 7) = 0.0\n",
      "p(X = 8) = 0.0\n",
      "p(X = 9) = 0.0\n"
     ]
    }
   ],
   "source": [
    "for i in range(10):\n",
    "    print(f\"p(X = {i}) = {round(rv.pmf(i),4)}\")"
   ]
  },
  {
   "cell_type": "markdown",
   "metadata": {},
   "source": [
    "## Example 1 - Semmelweis' assumption of child bed fever"
   ]
  },
  {
   "cell_type": "markdown",
   "metadata": {},
   "source": [
    "In the year 1847, Ignaz Semmelweis dicovered the cause of the cild bed fever, a deadly sickness, which affects women after childbirth. In one vienna clinic, where medical doctors supported childbirth, 10 % of the women died. In another vienna clinic, where midwifes supported childbirth, less than 4 % of women died. The death rate strongly increased in one clinic after it started to dissect bodies. One conclusion was, that the women died, because of germinated hands. Semmelweis arranged, that every obstetrician had to clean his/her hands with clorine washing. A result was the decrease of the death rate under 4 %. \n",
    "\n",
    "Without chlorine washing 1989 out of 20042 women died from 1841 till 1846.\n",
    "With chlorine washing 1883 out of 56104 women died from 1847 till 1860.\n",
    "\n",
    "The hypothesis of Semmelweis is:\n",
    "The death rate for childbirth is higher, when the women is treated with uncleaned hands."
   ]
  },
  {
   "cell_type": "markdown",
   "metadata": {},
   "source": [
    "childbirth without chlorine washing is indexed with X and with chlorine washings is indexed with Y."
   ]
  },
  {
   "cell_type": "code",
   "execution_count": 17,
   "metadata": {},
   "outputs": [],
   "source": [
    "n_tot_x = 20042\n",
    "n_dead_x = 1989\n",
    "\n",
    "n_tot_y = 56104\n",
    "n_dead_y = 1883"
   ]
  },
  {
   "cell_type": "markdown",
   "metadata": {},
   "source": [
    "### frequentist approach"
   ]
  },
  {
   "cell_type": "code",
   "execution_count": 18,
   "metadata": {},
   "outputs": [],
   "source": [
    "alpha = 0.01\n",
    "\n",
    "pi_x = n_dead_x/n_tot_x\n",
    "pi_y = n_dead_y/n_tot_y\n",
    "delta = pi_x - pi_y"
   ]
  },
  {
   "cell_type": "code",
   "execution_count": 19,
   "metadata": {},
   "outputs": [
    {
     "name": "stdout",
     "output_type": "stream",
     "text": [
      "9.92 % die without chlorine washing\n",
      "3.36 % die with chlorine washing\n"
     ]
    }
   ],
   "source": [
    "print(f\"{round(pi_x,4) * 100} % die without chlorine washing\")\n",
    "print(f\"{round(pi_y,4) * 100} % die with chlorine washing\")"
   ]
  },
  {
   "cell_type": "markdown",
   "metadata": {},
   "source": [
    "#### classical interval estimation"
   ]
  },
  {
   "cell_type": "markdown",
   "metadata": {},
   "source": [
    "What is the 99% confidence interval of deadly childbirth with and without chlorine washing"
   ]
  },
  {
   "cell_type": "code",
   "execution_count": 20,
   "metadata": {},
   "outputs": [],
   "source": [
    "pi_x1 = pi_x + norm.ppf(0.005) * np.sqrt(pi_x*(1-pi_x)/n_tot_x)\n",
    "pi_x2 = pi_x + norm.ppf(0.995) * np.sqrt(pi_x*(1-pi_x)/n_tot_x)\n",
    "pi_y1 = pi_y + norm.ppf(0.005) * np.sqrt(pi_y*(1-pi_y)/n_tot_y)\n",
    "pi_y2 = pi_y + norm.ppf(0.995) * np.sqrt(pi_y*(1-pi_y)/n_tot_y)"
   ]
  },
  {
   "cell_type": "code",
   "execution_count": 21,
   "metadata": {},
   "outputs": [
    {
     "name": "stdout",
     "output_type": "stream",
     "text": [
      "The 99 % both-sided confidence interval is 0.0938 and 0.1047 without chlorine washing\n",
      "The 99 % both-sided confidence interval is 0.0316 and 0.0355 with chlorine washing\n"
     ]
    }
   ],
   "source": [
    "print(f\"The 99 % both-sided confidence interval is {round(pi_x1,4)} and {round(pi_x2,4)} without chlorine washing\")\n",
    "print(f\"The 99 % both-sided confidence interval is {round(pi_y1,4)} and {round(pi_y2,4)} with chlorine washing\")"
   ]
  },
  {
   "cell_type": "markdown",
   "metadata": {},
   "source": [
    "What is the 99% interval for the difference between without chlorine washing and with chlorine washing?"
   ]
  },
  {
   "cell_type": "code",
   "execution_count": 22,
   "metadata": {},
   "outputs": [],
   "source": [
    "delta_1 = delta + norm.ppf(0.005) * np.sqrt((pi_x*(1-pi_x)/n_tot_x) + (pi_y*(1-pi_y)/n_tot_y))\n",
    "delta_2 = delta + norm.ppf(0.995) * np.sqrt((pi_x*(1-pi_x)/n_tot_x) + (pi_y*(1-pi_y)/n_tot_y))"
   ]
  },
  {
   "cell_type": "code",
   "execution_count": 23,
   "metadata": {},
   "outputs": [
    {
     "name": "stdout",
     "output_type": "stream",
     "text": [
      "The 99 % both-sided confidence interval is 0.0599 and 0.0715 for the difference between both\n"
     ]
    }
   ],
   "source": [
    "print(f\"The 99 % both-sided confidence interval is {round(delta_1,4)} and {round(delta_2,4)} for the difference between both\")"
   ]
  },
  {
   "cell_type": "markdown",
   "metadata": {},
   "source": [
    "#### classical testing"
   ]
  },
  {
   "cell_type": "markdown",
   "metadata": {},
   "source": [
    "In the classical approach, a null hypothesis has to be defined. In this case, the null hypothesis is, that the majority of medical doctors are right. Semmelweis has to show, that he is right with his proposed changes.\n",
    "\n",
    "The test is:\n",
    "\n",
    "$H_0: \\pi_X - \\pi_Y \\leq 0$\n",
    "\n",
    "This is an one-sided test and the significance level $\\alpha$ give is the probability to reject the null hypothesis. With a small $\\alpha$, the data had to be highly significent to reject the null hypothesis. $\\alpha$ = 0.01 is chosen.\n",
    "\n",
    "The test variable P is the estimated difference between the death rates: <br>\n",
    "$$P = \\delta$$"
   ]
  },
  {
   "cell_type": "code",
   "execution_count": 24,
   "metadata": {},
   "outputs": [
    {
     "name": "stdout",
     "output_type": "stream",
     "text": [
      "The test variable P is with 0.0657 above the hypothetical limit of the null hypotheses 0.0052\n"
     ]
    }
   ],
   "source": [
    "P = delta\n",
    "\n",
    "delta_plus = 0 + norm.ppf(1-alpha) * np.sqrt((pi_x*(1-pi_x)/n_tot_x) + (pi_y*(1-pi_y)/n_tot_y))\n",
    "\n",
    "print(f\"The test variable P is with {delta:.4f} above the hypothetical limit of the null hypotheses {delta_plus:.4f}\")"
   ]
  },
  {
   "cell_type": "markdown",
   "metadata": {},
   "source": [
    "$H_0$ is only valid with a probability of $\\leq 0.01$.\n",
    "\n",
    "The null hypothesis can be rejected and Semmelweis assumption is true.\n",
    "\n",
    "This test doesn't declare, if and in case it does, with which probability the null hypothesis is correct. In a classical view, it is not possible to assume a probability for the null hypothesis. It was always true, but unknown and this is not a real random event in an objective way."
   ]
  },
  {
   "cell_type": "markdown",
   "metadata": {},
   "source": [
    "#### Bayesian approach"
   ]
  },
  {
   "cell_type": "markdown",
   "metadata": {},
   "source": [
    "Before I calculate the posterio distribution of Semmelweis' data, I need to know the historical facts about the child bed fever. Without the information of childbirth with/without chlorine wasching, in a londoner clinic there was a probable death rate of 2,1% (m = 0.021). A death rate of 3 % ($\\pi_v = 0.03$) was only half ($\\frac{f(\\pi_v)}{f(m)} = 0.5$) as probable as 2,1 %."
   ]
  },
  {
   "cell_type": "code",
   "execution_count": 25,
   "metadata": {},
   "outputs": [],
   "source": [
    "m = 0.021\n",
    "pi_v = 0.03 \n",
    "ratio_m_pi = 0.5"
   ]
  },
  {
   "cell_type": "markdown",
   "metadata": {},
   "source": [
    "As a first step a' and b' of a beta-priori distribution had to be estimated. <br>\n",
    "Following calculation based on the case of 0 < m < 1"
   ]
  },
  {
   "cell_type": "code",
   "execution_count": 26,
   "metadata": {},
   "outputs": [
    {
     "name": "stdout",
     "output_type": "stream",
     "text": [
      "The parameters of the beta-distribution are for a: 10 and for b: 438\n"
     ]
    }
   ],
   "source": [
    "a = int(np.log(ratio_m_pi)/((np.log(pi_v/m) + ((1-m)/m)* np.log((1-pi_v)/(1-m)))) + 1) \n",
    "b = int(np.log(ratio_m_pi)/((np.log(pi_v/m) + ((1-m)/m)* np.log((1-pi_v)/(1-m)))) * (1- m)/m + 1)\n",
    "print(f\"The parameters of the beta-distribution are for a: {a} and for b: {b}\")"
   ]
  },
  {
   "cell_type": "markdown",
   "metadata": {},
   "source": [
    "The posteriori parameter a and b for $\\Pi_X$ and $\\Pi_Y$ are calculated:"
   ]
  },
  {
   "cell_type": "code",
   "execution_count": 27,
   "metadata": {},
   "outputs": [
    {
     "name": "stdout",
     "output_type": "stream",
     "text": [
      "The parameters of the posteriori beta-distribution without chlorine washing are for a: 1999 and for b: 18491\n",
      "The parameters of the posteriori beta-distribution with chlorine washing are for a: 1893 and for b: 54659\n"
     ]
    }
   ],
   "source": [
    "a_pi_x = a + n_dead_x\n",
    "b_pi_x = b + n_tot_x - n_dead_x\n",
    "a_pi_y = a + n_dead_y\n",
    "b_pi_y = b + n_tot_y - n_dead_y\n",
    "print(f\"The parameters of the posteriori beta-distribution without chlorine washing are for a: {a_pi_x} and for b: {b_pi_x}\")\n",
    "print(f\"The parameters of the posteriori beta-distribution with chlorine washing are for a: {a_pi_y} and for b: {b_pi_y}\")"
   ]
  },
  {
   "cell_type": "markdown",
   "metadata": {},
   "source": [
    "Both posteriori distributions can be approximated via the normal distribution:"
   ]
  },
  {
   "cell_type": "code",
   "execution_count": 28,
   "metadata": {},
   "outputs": [
    {
     "name": "stdout",
     "output_type": "stream",
     "text": [
      "The parameters of the approximated normal distribution without chlorine washing are \n",
      "for mu: 0.0976 and for sigma: 4.297e-06\n",
      "\n",
      "The parameters of the approximated normal distribution with chlorine washing are \n",
      "for mu: 0.0335 and for sigma: 5.721e-07\n"
     ]
    }
   ],
   "source": [
    "mu_x = a_pi_x/(a_pi_x + b_pi_x)\n",
    "sigma_x = (a_pi_x*b_pi_x)/((a_pi_x+b_pi_x)**2 * (a_pi_x+b_pi_x+1))\n",
    "mu_y = a_pi_y/(a_pi_y + b_pi_y)\n",
    "sigma_y = (a_pi_y*b_pi_y)/((a_pi_y+b_pi_y)**2 * (a_pi_y+b_pi_y+1))\n",
    "\n",
    "print(f\"The parameters of the approximated normal distribution without chlorine washing are \\nfor mu: {round(mu_x,4)} and for sigma: {sigma_x:.4g}\")\n",
    "print(f\"\\nThe parameters of the approximated normal distribution with chlorine washing are \\nfor mu: {round(mu_y,4)} and for sigma: {sigma_y:.4g}\")"
   ]
  },
  {
   "cell_type": "markdown",
   "metadata": {},
   "source": [
    "The difference of the posteriori-distribution is:"
   ]
  },
  {
   "cell_type": "code",
   "execution_count": 58,
   "metadata": {},
   "outputs": [
    {
     "name": "stdout",
     "output_type": "stream",
     "text": [
      "The difference is a normal distribution with my 0.0641 and sigma 4.87e-06\n"
     ]
    }
   ],
   "source": [
    "mu_xy = mu_x - mu_y\n",
    "sigma_xy = sigma_x + sigma_y\n",
    "\n",
    "print(f\"The difference is a normal distribution with my {mu_xy:.4f} and sigma {sigma_xy:.3g}\")"
   ]
  },
  {
   "cell_type": "markdown",
   "metadata": {},
   "source": [
    "#### bayesian estimation"
   ]
  },
  {
   "cell_type": "markdown",
   "metadata": {},
   "source": [
    "Based on the previous calculated posteriori distribution, the amount of deadly childbirth with and without chlorine washing can be estimated. The estimated median can be calculated via:"
   ]
  },
  {
   "cell_type": "code",
   "execution_count": 30,
   "metadata": {},
   "outputs": [
    {
     "name": "stdout",
     "output_type": "stream",
     "text": [
      "The estimated median percentage of deadly childbirth is \n",
      "\n",
      "without chlorine washing: 9.75%\n",
      "with chlorine washing: 3.35% \n"
     ]
    }
   ],
   "source": [
    "median_x = (a_pi_x - 1/3)/(a_pi_x + b_pi_x -2/3)\n",
    "median_y = (a_pi_y - 1/3)/(a_pi_y + b_pi_y -2/3)\n",
    "\n",
    "print(f\"\"\"The estimated median percentage of deadly childbirth is \\n\n",
    "without chlorine washing: {round(median_x,4)*100}%\\nwith chlorine washing: {round(median_y,4)*100}% \"\"\")"
   ]
  },
  {
   "cell_type": "markdown",
   "metadata": {},
   "source": [
    "What is the 99% confidence interval of childbirth death with and without chlorine washing based on bayesian interval estimation"
   ]
  },
  {
   "cell_type": "code",
   "execution_count": 31,
   "metadata": {},
   "outputs": [],
   "source": [
    "pi_x1 = mu_x - norm.ppf((1+0.99)/2) * np.sqrt(sigma_x)\n",
    "pi_x2 = mu_x + norm.ppf((1+0.99)/2) * np.sqrt(sigma_x)\n",
    "\n",
    "pi_y1 = mu_y - norm.ppf((1+0.99)/2) * np.sqrt(sigma_y)\n",
    "pi_y2 = mu_y + norm.ppf((1+0.99)/2) * np.sqrt(sigma_y)"
   ]
  },
  {
   "cell_type": "code",
   "execution_count": 32,
   "metadata": {},
   "outputs": [
    {
     "name": "stdout",
     "output_type": "stream",
     "text": [
      "The 99 % both-sided confidence interval is 0.0922 and 0.1029 without chlorine washing\n",
      "The 99 % both-sided confidence interval is 0.0315 and 0.0354 with chlorine washing\n"
     ]
    }
   ],
   "source": [
    "print(f\"The 99 % both-sided confidence interval is {round(pi_x1,4)} and {round(pi_x2,4)} without chlorine washing\")\n",
    "print(f\"The 99 % both-sided confidence interval is {round(pi_y1,4)} and {round(pi_y2,4)} with chlorine washing\")"
   ]
  },
  {
   "cell_type": "markdown",
   "metadata": {},
   "source": [
    "What is the 99% interval for the difference between without chlorine washing and with chlorine washing?"
   ]
  },
  {
   "cell_type": "code",
   "execution_count": 33,
   "metadata": {},
   "outputs": [],
   "source": [
    "delta_1 = mu_xy - norm.ppf((1+0.99)/2)  * np.sqrt(sigma_xy)\n",
    "delta_2 = mu_xy + norm.ppf((1+0.99)/2) * np.sqrt(sigma_xy)"
   ]
  },
  {
   "cell_type": "code",
   "execution_count": 34,
   "metadata": {},
   "outputs": [
    {
     "name": "stdout",
     "output_type": "stream",
     "text": [
      "The 99 % both-sided confidence interval is 0.0584 and 0.0698 for the difference between both\n"
     ]
    }
   ],
   "source": [
    "print(f\"The 99 % both-sided confidence interval is {round(delta_1,4)} and {round(delta_2,4)} for the difference between both\")"
   ]
  },
  {
   "cell_type": "markdown",
   "metadata": {},
   "source": [
    "#### bayesian testing"
   ]
  },
  {
   "cell_type": "markdown",
   "metadata": {},
   "source": [
    "In 1860 most medical doctors claimed, that childbirth without chlorine washing is not more dangerous than with chlorine washing. Is this claim valid? <br>\n",
    "This time the hypothesis is tested  via the posteriori distribution of the difference of amount of deaths.\n",
    "\n",
    "with $\\delta = 0$ is:\n",
    "\n",
    "$p(\\Pi_X - \\Pi_Y \\leq 0) = 1 - \\Phi(\\frac{0-\\mu_{\\Pi_X - \\Pi_Y}}{\\sigma_{\\Pi_X - \\Pi_Y}})$"
   ]
  },
  {
   "cell_type": "code",
   "execution_count": 63,
   "metadata": {},
   "outputs": [],
   "source": [
    "z = (0-mu_xy)/np.sqrt(sigma_xy)\n",
    "p_plus = norm.cdf(z)"
   ]
  },
  {
   "cell_type": "code",
   "execution_count": 65,
   "metadata": {},
   "outputs": [
    {
     "name": "stdout",
     "output_type": "stream",
     "text": [
      "p = 9.134e-186 is almost 0. The value lies around 29.04 standard deviations under the mean of the posteriori distribution\n"
     ]
    }
   ],
   "source": [
    "print(f\"p = {p_plus:.4g} is almost 0. The value lies around {round(abs(z),2)} standard deviations under the mean of the posteriori distribution\")"
   ]
  },
  {
   "cell_type": "markdown",
   "metadata": {},
   "source": [
    "This allows to agree to Semmelweis' Hypothesis. Chlorine washings have an effect of the childbirth death rate of women with a probability of almost 1."
   ]
  },
  {
   "cell_type": "markdown",
   "metadata": {},
   "source": [
    "## Example 2 - Millikans' measurement of elementary charge"
   ]
  },
  {
   "cell_type": "markdown",
   "metadata": {},
   "source": [
    "Milikan determined in the beginning of the 20th century the charge of an electron. He showed in his results, that the electrical charge of oil drops is a multiple of a smallest electrical charge.  He measured with 23 measurements the elementary charge in 1913 with an average of 1,5925E-19 Coulomb. He estimated the uncertainity of the value by +/- 0.2 %, including systematic and random errors. The standard deviation is 0,0031E-19 Coulomb. \n",
    "\n",
    "So is the sample size of 23 sufficient to have a valid assumption over the average of all possible measurments?"
   ]
  },
  {
   "cell_type": "code",
   "execution_count": 66,
   "metadata": {},
   "outputs": [],
   "source": [
    "n = 23\n",
    "\n",
    "mu_e = 1.5925E-19\n",
    "std_e = 0.0031E-19\n",
    "\n",
    "alpha = 0.05"
   ]
  },
  {
   "cell_type": "markdown",
   "metadata": {},
   "source": [
    "### frequentist approach"
   ]
  },
  {
   "cell_type": "code",
   "execution_count": 67,
   "metadata": {},
   "outputs": [
    {
     "name": "stdout",
     "output_type": "stream",
     "text": [
      "The estimated variance is 1.005e-43\n",
      "The estimated standard deviation is 3.17e-22\n"
     ]
    }
   ],
   "source": [
    "sigma_e = (n*np.power(std_e,2))/(23-1)\n",
    "\n",
    "print(f\"The estimated variance is {sigma_e:.4g}\")\n",
    "print(f\"The estimated standard deviation is {np.sqrt(sigma_e):.4g}\")"
   ]
  },
  {
   "cell_type": "markdown",
   "metadata": {},
   "source": [
    "The 95 % both-sided confidence interval can be calculated with the normal distribution. The sample size of 23 is big enough to justify the normal distribution instead of the student t-distribution."
   ]
  },
  {
   "cell_type": "code",
   "execution_count": 68,
   "metadata": {},
   "outputs": [
    {
     "name": "stdout",
     "output_type": "stream",
     "text": [
      "The 95 % both-sided confidence interval is 1.591e-19 and 1.594e-19 for the elementary electical charge\n"
     ]
    }
   ],
   "source": [
    "mu_1 = mu_e  + norm.ppf(alpha/2) * np.sqrt(sigma_e/(n))\n",
    "mu_2 = mu_e  + norm.ppf(1-alpha/2) * np.sqrt(sigma_e/(n))\n",
    "\n",
    "print(f\"The 95 % both-sided confidence interval is {mu_1:.4g} and {mu_2:.4g} for the elementary electical charge\")"
   ]
  },
  {
   "cell_type": "markdown",
   "metadata": {},
   "source": [
    "#### Bayesian approach"
   ]
  },
  {
   "cell_type": "markdown",
   "metadata": {},
   "source": [
    "As a first step a priori-distribution is determined. A normal distribution is chosen, since the experimental measurements are approximately normal distributed after the gaussian error law. The previous knowledge of Millikan were different cited elementary charges, which average were $1,5710*10^{-19}$. Based on Perrin 1911, 1 % (${\\frac{f(\\mu_v)}{f(m)}}$) of the density of the mode is set to $1,4*10^{-19}$. "
   ]
  },
  {
   "cell_type": "code",
   "execution_count": 40,
   "metadata": {},
   "outputs": [],
   "source": [
    "m = 1.5710E-19\n",
    "mu_v = 1.4E-19\n",
    "ratio_m_mu_v = 0.01"
   ]
  },
  {
   "cell_type": "code",
   "execution_count": 41,
   "metadata": {},
   "outputs": [],
   "source": [
    "sigma_v = - (mu_v - m)**2/(2*np.log(0.01))"
   ]
  },
  {
   "cell_type": "code",
   "execution_count": 42,
   "metadata": {},
   "outputs": [],
   "source": [
    "m = 1.5710E-19\n",
    "mu_v = 1.4E-19"
   ]
  },
  {
   "cell_type": "markdown",
   "metadata": {},
   "source": [
    "estimation of 1 %"
   ]
  },
  {
   "cell_type": "code",
   "execution_count": 43,
   "metadata": {},
   "outputs": [
    {
     "name": "stdout",
     "output_type": "stream",
     "text": [
      "The priori distribution is determined to my: 1.571e-19 and variance: 3.175e-41\n"
     ]
    }
   ],
   "source": [
    "sigma_v = - np.power(mu_v - m,2)/(2*np.log(0.01))\n",
    "\n",
    "print(f\"The priori distribution is determined to my: {m:.4g} and variance: {sigma_v:.4g}\")"
   ]
  },
  {
   "cell_type": "markdown",
   "metadata": {},
   "source": [
    "From the previous sample, the average and the variance of the sample size is known. Since only the variance of the sample size, but not of variance of all possible measurements is known, following parameters of the posteriori distribution can be calculated."
   ]
  },
  {
   "cell_type": "code",
   "execution_count": 44,
   "metadata": {},
   "outputs": [
    {
     "name": "stdout",
     "output_type": "stream",
     "text": [
      "The estimated average of the posteriori distribution is 1.592e-19\n",
      "The estimated variance of the posteriori distribution is 4.178e-45\n"
     ]
    }
   ],
   "source": [
    "mu_posterio = (sigma_v*mu_e + np.power(std_e,2)/23 * m)/(sigma_v+np.power(std_e,2)/23)\n",
    "\n",
    "sigma_posterio = (sigma_v * np.power(std_e,2)/23)/(sigma_v+np.power(std_e,2)/23)\n",
    "\n",
    "print(f\"The estimated average of the posteriori distribution is {mu_posterio:.4g}\")\n",
    "print(f\"The estimated variance of the posteriori distribution is {sigma_posterio:.4g}\")"
   ]
  },
  {
   "cell_type": "markdown",
   "metadata": {},
   "source": [
    "The priori distribution has a huge variance, so it is uniform in the parameter range of the posteriori distribution. The reason is, that the priori distribution is based on only 4 measurement,"
   ]
  },
  {
   "cell_type": "markdown",
   "metadata": {},
   "source": [
    "What is the 95% confidence interval of the elementary charge under the condition of Milikan's experiment?"
   ]
  },
  {
   "cell_type": "code",
   "execution_count": 45,
   "metadata": {},
   "outputs": [],
   "source": [
    "mu_1 = mu_posterio + norm.ppf(0.025) * np.sqrt(sigma_posterio)\n",
    "mu_2 = mu_posterio + norm.ppf(0.975) * np.sqrt(sigma_posterio)"
   ]
  },
  {
   "cell_type": "code",
   "execution_count": 69,
   "metadata": {},
   "outputs": [
    {
     "name": "stdout",
     "output_type": "stream",
     "text": [
      "The 95 % both-sided credibility interval of the elementary charge is 1.591e-19 and 1.594e-19\n"
     ]
    }
   ],
   "source": [
    "print(f\"The 95 % both-sided credibility interval of the elementary charge is {mu_1:.4g} and {mu_2:.4g}\")"
   ]
  },
  {
   "cell_type": "markdown",
   "metadata": {},
   "source": [
    "## Example 3 the Milgram-experiment of obedience"
   ]
  },
  {
   "cell_type": "markdown",
   "metadata": {},
   "source": [
    "Miligram experiment had a teach, student and an examiner. The teacher asks the student questions and penaliize the student with every wrong answer via an electric shock. The first wrong answer is penalized with 15 Volt and will be increased by 15 Volt for every wrong answer until it reaches 450 Volt. The student protested against this treatment, but the examiner pushed the teacher to continue. The electric shocks were simulated and the student and the examiner were actors. The real experiment was the teacher, who wasn't involved and kept in faith to participate in an experiment about learning methods. The real expereiment was the behaviour of the teacher, if and/or when the pain and the screams of the student will stop him to continue the experiment against the will of the examiner. The result was, that from 80 persons (40 men and 40 women) 52 persons (26 men and 26 women) followed the instruction of the examiner to increase the electric shock to the maximal voltage. \n",
    "\n",
    "The publisher of Milgrams book claimed, that 75% of the average population can be manipulated by a pseudo-scientific authority towards the torture of innocent men and women. Is this true?\n",
    "\n",
    "The hypthesis is: the percentage of obedient persons is 75 %. "
   ]
  },
  {
   "cell_type": "code",
   "execution_count": 47,
   "metadata": {},
   "outputs": [
    {
     "name": "stdout",
     "output_type": "stream",
     "text": [
      "Out of 80 persons, 52 were obedient, which is 65.0%\n"
     ]
    }
   ],
   "source": [
    "n = 80\n",
    "n_obey = 52\n",
    "\n",
    "pi = n_obey/n\n",
    "\n",
    "print(f\"Out of 80 persons, 52 were obedient, which is {round(pi,4)*100}%\")"
   ]
  },
  {
   "cell_type": "markdown",
   "metadata": {},
   "source": [
    "### frequentist approach"
   ]
  },
  {
   "cell_type": "code",
   "execution_count": 48,
   "metadata": {},
   "outputs": [],
   "source": [
    "pi_1 = pi + norm.ppf(0.025) * np.sqrt(pi*(1-pi)/n)\n",
    "pi_2 = pi + norm.ppf(0.975) * np.sqrt(pi*(1-pi)/n)"
   ]
  },
  {
   "cell_type": "code",
   "execution_count": 49,
   "metadata": {},
   "outputs": [
    {
     "name": "stdout",
     "output_type": "stream",
     "text": [
      "The 95 % both-sided confidence interval is 0.545 and 0.755 for the obedience\n"
     ]
    }
   ],
   "source": [
    "print(f\"The 95 % both-sided confidence interval is {pi_1:.3f} and {pi_2:.3f} for the obedience\")"
   ]
  },
  {
   "cell_type": "markdown",
   "metadata": {},
   "source": [
    "Is the hypthesis, that the percentage of obedient persons is 75%, valid?"
   ]
  },
  {
   "cell_type": "code",
   "execution_count": 50,
   "metadata": {},
   "outputs": [],
   "source": [
    "P = n_obey/n\n",
    "pi = 0.75\n",
    "alpha = 0.05"
   ]
  },
  {
   "cell_type": "code",
   "execution_count": 51,
   "metadata": {},
   "outputs": [],
   "source": [
    "pi_1 = pi + norm.ppf(alpha/2) * np.sqrt(pi * (1-pi)/n)\n",
    "pi_2 = pi + norm.ppf(1-alpha/2) * np.sqrt(pi * (1-pi)/n)"
   ]
  },
  {
   "cell_type": "code",
   "execution_count": 52,
   "metadata": {},
   "outputs": [
    {
     "name": "stdout",
     "output_type": "stream",
     "text": [
      "Since P < pi_1 (0.65 < 0.66), the hypothesis is rejected with the significance level of alpha = 0.05\n"
     ]
    }
   ],
   "source": [
    "print(f\"Since P < pi_1 ({P} < {pi_1:.2f}), the hypothesis is rejected with the significance level of alpha = {alpha}\")"
   ]
  },
  {
   "cell_type": "markdown",
   "metadata": {},
   "source": [
    "#### Bayesian approach"
   ]
  },
  {
   "cell_type": "markdown",
   "metadata": {},
   "source": [
    "There was no knowledge about obedience before Milgrams experiment. This lack of knowledge is expressed via the non-informative konjugated priori distribution of Jeffrey's prior. a' and b' of the beta-distribution are euqal 0.5. The beta posteriori distribution follows:"
   ]
  },
  {
   "cell_type": "code",
   "execution_count": 53,
   "metadata": {},
   "outputs": [],
   "source": [
    "a = 0.5 + n_obey\n",
    "b = 0.5 + n - n_obey"
   ]
  },
  {
   "cell_type": "markdown",
   "metadata": {},
   "source": [
    "The normal distribution is approximated via:"
   ]
  },
  {
   "cell_type": "code",
   "execution_count": 54,
   "metadata": {},
   "outputs": [
    {
     "name": "stdout",
     "output_type": "stream",
     "text": [
      "The priori distribution is determined by my: 0.648 and variance: 0.00278\n"
     ]
    }
   ],
   "source": [
    "mu = a/(a+b)\n",
    "sigma = a*b/(np.power(a+b,2) * (a+b+1))\n",
    "\n",
    "print(f\"The priori distribution is determined by my: {mu:.3f} and variance: {sigma:.5f}\")"
   ]
  },
  {
   "cell_type": "markdown",
   "metadata": {},
   "source": [
    "Based on fundamention of the posteriori distribution, the amount of obedient persons is estimated."
   ]
  },
  {
   "cell_type": "code",
   "execution_count": 55,
   "metadata": {},
   "outputs": [
    {
     "name": "stdout",
     "output_type": "stream",
     "text": [
      "The estimated median of the posteriori distribution is 0.65\n"
     ]
    }
   ],
   "source": [
    "pi_median = (a-1/3)/(a+b-2/3)\n",
    "\n",
    "print(f\"The estimated median of the posteriori distribution is {pi_median:.2f}\")"
   ]
  },
  {
   "cell_type": "markdown",
   "metadata": {},
   "source": [
    "What is the 95% confidence interval of the obedient persons in the experiment?"
   ]
  },
  {
   "cell_type": "code",
   "execution_count": 56,
   "metadata": {},
   "outputs": [
    {
     "name": "stdout",
     "output_type": "stream",
     "text": [
      "The 95 % both-sided confidence interval is 0.545 and 0.752 for the obedience\n"
     ]
    }
   ],
   "source": [
    "mu_1 = mu + norm.ppf(alpha/2) * np.sqrt(sigma)\n",
    "mu_2 = mu + norm.ppf(1 - alpha/2) * np.sqrt(sigma)\n",
    "\n",
    "print(f\"The 95 % both-sided confidence interval is {mu_1:.3f} and {mu_2:.3f} for the obedience\")"
   ]
  },
  {
   "cell_type": "markdown",
   "metadata": {},
   "source": [
    "The hypthesis is: the percentage of obedient persons is higher than 75 %. Can this still be valid based on the posteriori distribution?"
   ]
  },
  {
   "cell_type": "code",
   "execution_count": 57,
   "metadata": {},
   "outputs": [
    {
     "name": "stdout",
     "output_type": "stream",
     "text": [
      "The probability that more than or equal 75 % of the persons are obedient is 2.67%\n"
     ]
    }
   ],
   "source": [
    "p = 1-norm.cdf((pi-mu)/np.sqrt(sigma))\n",
    "\n",
    "print(f\"The probability that more than or equal 75 % of the persons are obedient is {100*p:.2f}%\")"
   ]
  }
 ],
 "metadata": {
  "kernelspec": {
   "display_name": "Python 3",
   "language": "python",
   "name": "python3"
  },
  "language_info": {
   "codemirror_mode": {
    "name": "ipython",
    "version": 3
   },
   "file_extension": ".py",
   "mimetype": "text/x-python",
   "name": "python",
   "nbconvert_exporter": "python",
   "pygments_lexer": "ipython3",
   "version": "3.7.7"
  }
 },
 "nbformat": 4,
 "nbformat_minor": 2
}
